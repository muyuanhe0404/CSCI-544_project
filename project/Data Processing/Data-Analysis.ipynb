{
 "cells": [
  {
   "cell_type": "code",
   "execution_count": 1,
   "metadata": {},
   "outputs": [
    {
     "data": {
      "text/plain": [
       "label\n",
       "proved       334\n",
       "disproved    333\n",
       "unknown      333\n",
       "Name: count, dtype: int64"
      ]
     },
     "execution_count": 1,
     "metadata": {},
     "output_type": "execute_result"
    }
   ],
   "source": [
    "import pandas as pd\n",
    "\n",
    "df = pd.read_json('output.json')\n",
    "\n",
    "df['label'].value_counts()"
   ]
  },
  {
   "cell_type": "code",
   "execution_count": 3,
   "metadata": {},
   "outputs": [
    {
     "name": "stdout",
     "output_type": "stream",
     "text": [
      "Proved: None, Disproved: None, Unknown: None\n",
      "######################################################################\n",
      " does the gorilla trade one of its pieces with the poodle?\n",
      "the gorilla has a tablet and 59 dollars. the gorilla does not have more money than the crab (who has 70 dollars), so rule 4 does not apply in this case. \n",
      "\n",
      "rule 1 states that if the gorilla has a device to connect to the internet, then it neglects the elk. since the gorilla has a tablet, it neglects the elk.\n",
      "\n",
      "rule 3 states that if at least one animal brings an oil tank for the gadwall, then the gorilla does not disarm the swan. in this case, the badger brings an oil tank for the gadwall. therefore, the gorilla does not disarm the swan.\n",
      "\n",
      "based on the rules and the current game state, the gorilla will trade one of its pieces with the poodle because it neglects the elk and does not disarm the swan. \n",
      "\n",
      "therefore, the statement is proven.\n"
     ]
    },
    {
     "ename": "KeyboardInterrupt",
     "evalue": "Interrupted by user",
     "output_type": "error",
     "traceback": [
      "\u001b[1;31m---------------------------------------------------------------------------\u001b[0m",
      "\u001b[1;31mKeyboardInterrupt\u001b[0m                         Traceback (most recent call last)",
      "Cell \u001b[1;32mIn[3], line 20\u001b[0m\n\u001b[0;32m     18\u001b[0m \u001b[38;5;28mprint\u001b[39m(row[\u001b[38;5;124m'\u001b[39m\u001b[38;5;124mquestion\u001b[39m\u001b[38;5;124m'\u001b[39m]\u001b[38;5;241m.\u001b[39msplit(\u001b[38;5;124m'\u001b[39m\u001b[38;5;124mBased on the game state and the rules and preferences,\u001b[39m\u001b[38;5;124m'\u001b[39m,\u001b[38;5;241m1\u001b[39m)[\u001b[38;5;241m-\u001b[39m\u001b[38;5;241m1\u001b[39m])\n\u001b[0;32m     19\u001b[0m \u001b[38;5;28mprint\u001b[39m(text)\n\u001b[1;32m---> 20\u001b[0m userInput \u001b[38;5;241m=\u001b[39m \u001b[38;5;28;43minput\u001b[39;49m\u001b[43m(\u001b[49m\u001b[38;5;124;43m'\u001b[39;49m\u001b[38;5;124;43mProved (1), disproved (2), unknown (3): \u001b[39;49m\u001b[38;5;124;43m'\u001b[39;49m\u001b[43m)\u001b[49m\n\u001b[0;32m     21\u001b[0m \u001b[38;5;28;01mtry\u001b[39;00m:\n\u001b[0;32m     22\u001b[0m     userInt \u001b[38;5;241m=\u001b[39m \u001b[38;5;28mint\u001b[39m(userInput)\n",
      "File \u001b[1;32mc:\\Users\\Dennis\\Desktop\\CSCI544-Project\\.venv\\lib\\site-packages\\ipykernel\\kernelbase.py:1282\u001b[0m, in \u001b[0;36mKernel.raw_input\u001b[1;34m(self, prompt)\u001b[0m\n\u001b[0;32m   1280\u001b[0m     msg \u001b[38;5;241m=\u001b[39m \u001b[38;5;124m\"\u001b[39m\u001b[38;5;124mraw_input was called, but this frontend does not support input requests.\u001b[39m\u001b[38;5;124m\"\u001b[39m\n\u001b[0;32m   1281\u001b[0m     \u001b[38;5;28;01mraise\u001b[39;00m StdinNotImplementedError(msg)\n\u001b[1;32m-> 1282\u001b[0m \u001b[38;5;28;01mreturn\u001b[39;00m \u001b[38;5;28;43mself\u001b[39;49m\u001b[38;5;241;43m.\u001b[39;49m\u001b[43m_input_request\u001b[49m\u001b[43m(\u001b[49m\n\u001b[0;32m   1283\u001b[0m \u001b[43m    \u001b[49m\u001b[38;5;28;43mstr\u001b[39;49m\u001b[43m(\u001b[49m\u001b[43mprompt\u001b[49m\u001b[43m)\u001b[49m\u001b[43m,\u001b[49m\n\u001b[0;32m   1284\u001b[0m \u001b[43m    \u001b[49m\u001b[38;5;28;43mself\u001b[39;49m\u001b[38;5;241;43m.\u001b[39;49m\u001b[43m_parent_ident\u001b[49m\u001b[43m[\u001b[49m\u001b[38;5;124;43m\"\u001b[39;49m\u001b[38;5;124;43mshell\u001b[39;49m\u001b[38;5;124;43m\"\u001b[39;49m\u001b[43m]\u001b[49m\u001b[43m,\u001b[49m\n\u001b[0;32m   1285\u001b[0m \u001b[43m    \u001b[49m\u001b[38;5;28;43mself\u001b[39;49m\u001b[38;5;241;43m.\u001b[39;49m\u001b[43mget_parent\u001b[49m\u001b[43m(\u001b[49m\u001b[38;5;124;43m\"\u001b[39;49m\u001b[38;5;124;43mshell\u001b[39;49m\u001b[38;5;124;43m\"\u001b[39;49m\u001b[43m)\u001b[49m\u001b[43m,\u001b[49m\n\u001b[0;32m   1286\u001b[0m \u001b[43m    \u001b[49m\u001b[43mpassword\u001b[49m\u001b[38;5;241;43m=\u001b[39;49m\u001b[38;5;28;43;01mFalse\u001b[39;49;00m\u001b[43m,\u001b[49m\n\u001b[0;32m   1287\u001b[0m \u001b[43m\u001b[49m\u001b[43m)\u001b[49m\n",
      "File \u001b[1;32mc:\\Users\\Dennis\\Desktop\\CSCI544-Project\\.venv\\lib\\site-packages\\ipykernel\\kernelbase.py:1325\u001b[0m, in \u001b[0;36mKernel._input_request\u001b[1;34m(self, prompt, ident, parent, password)\u001b[0m\n\u001b[0;32m   1322\u001b[0m \u001b[38;5;28;01mexcept\u001b[39;00m \u001b[38;5;167;01mKeyboardInterrupt\u001b[39;00m:\n\u001b[0;32m   1323\u001b[0m     \u001b[38;5;66;03m# re-raise KeyboardInterrupt, to truncate traceback\u001b[39;00m\n\u001b[0;32m   1324\u001b[0m     msg \u001b[38;5;241m=\u001b[39m \u001b[38;5;124m\"\u001b[39m\u001b[38;5;124mInterrupted by user\u001b[39m\u001b[38;5;124m\"\u001b[39m\n\u001b[1;32m-> 1325\u001b[0m     \u001b[38;5;28;01mraise\u001b[39;00m \u001b[38;5;167;01mKeyboardInterrupt\u001b[39;00m(msg) \u001b[38;5;28;01mfrom\u001b[39;00m \u001b[38;5;28;01mNone\u001b[39;00m\n\u001b[0;32m   1326\u001b[0m \u001b[38;5;28;01mexcept\u001b[39;00m \u001b[38;5;167;01mException\u001b[39;00m:\n\u001b[0;32m   1327\u001b[0m     \u001b[38;5;28mself\u001b[39m\u001b[38;5;241m.\u001b[39mlog\u001b[38;5;241m.\u001b[39mwarning(\u001b[38;5;124m\"\u001b[39m\u001b[38;5;124mInvalid Message:\u001b[39m\u001b[38;5;124m\"\u001b[39m, exc_info\u001b[38;5;241m=\u001b[39m\u001b[38;5;28;01mTrue\u001b[39;00m)\n",
      "\u001b[1;31mKeyboardInterrupt\u001b[0m: Interrupted by user"
     ]
    }
   ],
   "source": [
    "import re\n",
    "from IPython.display import clear_output\n",
    "\n",
    "d = {'proved': 0, 'disproved': 0, 'unknown': 0}\n",
    "unsure = []\n",
    "i = 0\n",
    "for index, row in df.iterrows():\n",
    "    text = row['chat-gpt-3.5-turbo-ans'].lower()\n",
    "    proved = re.search(r'\\bproved\\b(?!disproved)', text)\n",
    "    disproved = re.search(r'disproved', text)\n",
    "    unknown = re.search(r'unknown', text) \n",
    "    if (proved and disproved) or (proved and unknown) or (disproved and unknown) or (not proved and not disproved and not unknown):\n",
    "        isFixed = False\n",
    "        while not isFixed:\n",
    "            clear_output(wait=True)\n",
    "            print(f'Proved: {proved}, Disproved: {disproved}, Unknown: {unknown}')\n",
    "            print('######################################################################')\n",
    "            print(row['question'].split('Based on the game state and the rules and preferences,',1)[-1])\n",
    "            print(text)\n",
    "            userInput = input('Proved (1), disproved (2), unknown (3): ')\n",
    "            try:\n",
    "                userInt = int(userInput)\n",
    "                if userInt <= 0 or userInt >= 4:\n",
    "                    raise ValueError()\n",
    "                isFixed = True\n",
    "                \n",
    "                if userInt == 1:\n",
    "                    proved, disproved, unknown = True, False, False\n",
    "                elif userInt == 2:\n",
    "                    proved, disproved, unknown = False, True, False\n",
    "                elif userInt == 3:\n",
    "                    proved, disproved, unknown = False, False, True\n",
    "            except ValueError:\n",
    "                print(f'Bad value entered ({userInput} w as entered), try again')\n",
    "    \n",
    "    if proved:\n",
    "        d['proved'] += 1\n",
    "    elif disproved:\n",
    "        d['disproved'] += 1\n",
    "    elif unknown:\n",
    "        d['unknown'] += 1\n",
    "\n",
    "\n",
    "print(d, i)"
   ]
  }
 ],
 "metadata": {
  "kernelspec": {
   "display_name": ".venv",
   "language": "python",
   "name": "python3"
  },
  "language_info": {
   "codemirror_mode": {
    "name": "ipython",
    "version": 3
   },
   "file_extension": ".py",
   "mimetype": "text/x-python",
   "name": "python",
   "nbconvert_exporter": "python",
   "pygments_lexer": "ipython3",
   "version": "3.10.5"
  }
 },
 "nbformat": 4,
 "nbformat_minor": 2
}
