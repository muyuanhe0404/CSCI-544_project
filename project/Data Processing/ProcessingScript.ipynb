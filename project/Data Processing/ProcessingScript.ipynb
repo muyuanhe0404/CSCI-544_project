{
 "cells": [
  {
   "cell_type": "code",
   "execution_count": 15,
   "metadata": {},
   "outputs": [],
   "source": [
    "import pandas as pd\n",
    "\n",
    "df = pd.read_json('output-with-chat-gpt-label.json')\n",
    "\n",
    "saveDf = pd.DataFrame(columns=['context', 'question', 'llama-subproblems', 'label', 'chatgpt-guess-label'])\n",
    "\n",
    "#for index, row in df.iterrows():\n",
    "#    new_record = {\n",
    "#            'question': row['question'],\n",
    "#            'subproblems': row['subproblems'],\n",
    "#            'label': row['label'],\n",
    "#        }\n",
    "#    temp_df = pd.DataFrame([new_record])\n",
    "#    saveDf = pd.concat([saveDf, temp_df], ignore_index=True)\n",
    "#saveDf.to_json('./output-subproblems-parsed.json', orient='records')"
   ]
  },
  {
   "cell_type": "code",
   "execution_count": 16,
   "metadata": {},
   "outputs": [
    {
     "name": "stdout",
     "output_type": "stream",
     "text": [
      "['1. Is the crab less than three years old?', '2. Does the crab destroy the wall constructed by the frog?', '3. Does the frog enjoy the company of the crow?']\n"
     ]
    }
   ],
   "source": [
    "import re\n",
    "def fetch_subquestions_array(text):\n",
    "    pattern = r'.*\\?'\n",
    "    lines = text.split('\\n')\n",
    "    matching_lines = []\n",
    "    for line in lines:\n",
    "        line = line.strip()\n",
    "        if re.match(pattern, line):\n",
    "            matching_lines.append(line)\n",
    "\n",
    "    \n",
    "    return matching_lines\n",
    "\n",
    "\n",
    "text = df.iloc[9]['subproblems']\n",
    "text\n",
    "#print(text)\n",
    "print(fetch_subquestions_array(text))\n",
    "\n"
   ]
  },
  {
   "cell_type": "code",
   "execution_count": 11,
   "metadata": {},
   "outputs": [
    {
     "name": "stdout",
     "output_type": "stream",
     "text": [
      "167 3.737\n"
     ]
    }
   ],
   "source": [
    "i = 0\n",
    "avgQuestions = 0\n",
    "for index, row in df.iterrows():\n",
    "    v = fetch_subquestions_array(row['subproblems'])\n",
    "    v = list(set(v))\n",
    "    avgQuestions += len(v)\n",
    "    if len(v) == 0:\n",
    "        i += 1\n",
    "print(i, avgQuestions / 1000)"
   ]
  },
  {
   "cell_type": "code",
   "execution_count": 17,
   "metadata": {},
   "outputs": [
    {
     "data": {
      "text/plain": [
       "'does the swan swear to the woodpecker?'"
      ]
     },
     "execution_count": 17,
     "metadata": {},
     "output_type": "execute_result"
    }
   ],
   "source": [
    "based_substring = \" Based on the game state and the rules and preferences,\"\n",
    "\n",
    "df.iloc[0]['question'].split(based_substring)[-1].strip()"
   ]
  },
  {
   "cell_type": "code",
   "execution_count": 18,
   "metadata": {},
   "outputs": [],
   "source": [
    "for index, row in df.iterrows():\n",
    "    v = fetch_subquestions_array(row['subproblems'])\n",
    "    s = set()\n",
    "    k = []\n",
    "    for i in v:\n",
    "        if i not in s:\n",
    "            k.append(i)\n",
    "        s.add(i)\n",
    "    \n",
    "    based_substring = \" Based on the game state and the rules and preferences,\"\n",
    "\n",
    "    new_record = {\n",
    "            'context': row['question'].split(based_substring)[0],\n",
    "            'question': f'{based_substring.strip()} {row[\"question\"].split(based_substring)[-1].strip()}',\n",
    "            'llama-subproblems': '||'.join(k),\n",
    "            'label': row['label'],\n",
    "            'chatgpt-guess-label': row['chatgpt-guess-label']\n",
    "        }\n",
    "    temp_df = pd.DataFrame([new_record])\n",
    "    saveDf = pd.concat([saveDf, temp_df], ignore_index=True)\n",
    "saveDf.to_json('./output-subproblems-parsed-2.json', orient='records')"
   ]
  }
 ],
 "metadata": {
  "kernelspec": {
   "display_name": ".venv",
   "language": "python",
   "name": "python3"
  },
  "language_info": {
   "codemirror_mode": {
    "name": "ipython",
    "version": 3
   },
   "file_extension": ".py",
   "mimetype": "text/x-python",
   "name": "python",
   "nbconvert_exporter": "python",
   "pygments_lexer": "ipython3",
   "version": "3.10.5"
  }
 },
 "nbformat": 4,
 "nbformat_minor": 2
}
